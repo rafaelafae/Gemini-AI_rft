{
  "nbformat": 4,
  "nbformat_minor": 0,
  "metadata": {
    "colab": {
      "provenance": [],
      "authorship_tag": "ABX9TyNOj4eY10XWYATCXjiAe/oz",
      "include_colab_link": true
    },
    "kernelspec": {
      "name": "python3",
      "display_name": "Python 3"
    },
    "language_info": {
      "name": "python"
    }
  },
  "cells": [
    {
      "cell_type": "markdown",
      "metadata": {
        "id": "view-in-github",
        "colab_type": "text"
      },
      "source": [
        "<a href=\"https://colab.research.google.com/github/rafaelafae/Gemini-AI_rft/blob/main/my_gemini.ipynb\" target=\"_parent\"><img src=\"https://colab.research.google.com/assets/colab-badge.svg\" alt=\"Open In Colab\"/></a>"
      ]
    },
    {
      "cell_type": "markdown",
      "source": [
        "Instalando o SDK do Google"
      ],
      "metadata": {
        "id": "jbZ_lnDvxuOO"
      }
    },
    {
      "cell_type": "code",
      "execution_count": 30,
      "metadata": {
        "id": "aZOacRy3ttok"
      },
      "outputs": [],
      "source": [
        "# pip instal é uma instalação (gestor de pacotes do phyton)\n",
        "# -q (resultado silencioso - quiet)\n",
        "# -U (atualiza a ultima versão disponível)\n",
        "!pip install -q -U google-generativeai"
      ]
    },
    {
      "cell_type": "code",
      "source": [
        "# Import the Phyton SDK\n",
        "# apelido de genai para AI importada\n",
        "import google.generativeai as rftai\n",
        "\n",
        "from google.colab import userdata\n",
        "api_key = userdata.get('rft_key')\n",
        "\n",
        "rftai.configure(api_key=api_key)"
      ],
      "metadata": {
        "id": "y4WKrhQTx-Gj"
      },
      "execution_count": 60,
      "outputs": []
    },
    {
      "cell_type": "markdown",
      "source": [
        "Listar os modelos AI disponíveis"
      ],
      "metadata": {
        "id": "B4P6FYOyyyXs"
      }
    },
    {
      "cell_type": "code",
      "source": [
        "# Looping\n",
        "for m in rftai.list_models():\n",
        "  if 'generateContent' in m.supported_generation_methods:\n",
        "    print(m.name)"
      ],
      "metadata": {
        "colab": {
          "base_uri": "https://localhost:8080/",
          "height": 139
        },
        "id": "EYXQZ_nByruH",
        "outputId": "3e5bd594-5917-4329-fa3a-66421425f890"
      },
      "execution_count": 61,
      "outputs": [
        {
          "output_type": "stream",
          "name": "stdout",
          "text": [
            "models/gemini-1.0-pro\n",
            "models/gemini-1.0-pro-001\n",
            "models/gemini-1.0-pro-latest\n",
            "models/gemini-1.0-pro-vision-latest\n",
            "models/gemini-1.5-pro-latest\n",
            "models/gemini-pro\n",
            "models/gemini-pro-vision\n"
          ]
        }
      ]
    },
    {
      "cell_type": "markdown",
      "source": [
        "Aplicando parâmetros para AI"
      ],
      "metadata": {
        "id": "V_uF7OWq3Lvn"
      }
    },
    {
      "cell_type": "code",
      "source": [
        "# Variável para armazenar parâmetros da qualidade de resposta\n",
        "generation_config = {\n",
        "    \"candidate_count\": 1,\n",
        "    \"temperature\": 0.7,\n",
        "}"
      ],
      "metadata": {
        "id": "2I2akZ_J1lDX"
      },
      "execution_count": 49,
      "outputs": []
    },
    {
      "cell_type": "code",
      "source": [
        "# Variável para armazenar parâmetros de segurança\n",
        "safety_settings = {\n",
        "    \"HARASSMENT\": \"BLOCK_MEDIUM_AND_ABOVE\",\n",
        "    \"HATE\": \"BLOCK_MEDIUM_AND_ABOVE\",\n",
        "    \"SEXUAL\": \"BLOCK_MEDIUM_AND_ABOVE\",\n",
        "    \"DANGEROUS\": \"BLOCK_MEDIUM_AND_ABOVE\",\n",
        "}"
      ],
      "metadata": {
        "id": "WRWOtKwg2jjt"
      },
      "execution_count": 58,
      "outputs": []
    },
    {
      "cell_type": "markdown",
      "source": [
        "Inicializando o modelo"
      ],
      "metadata": {
        "id": "NfhtPA-F36-D"
      }
    },
    {
      "cell_type": "code",
      "source": [
        "model = rftai.GenerativeModel(model_name=\"gemini-1.0-pro\",\n",
        "                                   generation_config=generation_config,\n",
        "                                   safety_settings=safety_settings)"
      ],
      "metadata": {
        "id": "xyYivRPV3bFk"
      },
      "execution_count": 62,
      "outputs": []
    },
    {
      "cell_type": "markdown",
      "source": [
        "Criação de plataforma Gemini AI"
      ],
      "metadata": {
        "id": "4ZEERmkhQ74-"
      }
    },
    {
      "cell_type": "code",
      "source": [
        "# Variável que armazena\n",
        "chat = model.start_chat(history=[])"
      ],
      "metadata": {
        "id": "xK19fEPsO2e8"
      },
      "execution_count": 63,
      "outputs": []
    },
    {
      "cell_type": "code",
      "source": [
        "# Variável para armazenar prompt do usuário\n",
        "user_prompt = input('Como posso te ajudar? ').lower()\n",
        "\n",
        "# Looping\n",
        "while user_prompt != \"fim\":\n",
        "  response = chat.send_message(user_prompt)\n",
        "  print('Resposta: ', response.text, '\\n')\n",
        "  user_prompt = input('Como posso te ajudar?: ').lower()"
      ],
      "metadata": {
        "colab": {
          "base_uri": "https://localhost:8080/",
          "height": 106
        },
        "id": "CAsXK8qSOtMX",
        "outputId": "6607d842-2ea0-4a03-a3a5-687251d56cf6"
      },
      "execution_count": 95,
      "outputs": [
        {
          "name": "stdout",
          "output_type": "stream",
          "text": [
            "Como posso te ajudar? Bom dia, como você esta? Aliás, que horas são?\n",
            "Resposta:  Bom dia! Estou bem, obrigado por perguntar. Atualmente, são 09h05 (horário de Brasília). \n",
            "\n",
            "Como posso te ajudar?: FIM\n"
          ]
        }
      ]
    },
    {
      "cell_type": "code",
      "source": [
        "# Melhorando a visualização\n",
        "# Código disponnível em https://ai.google.dev/tutotials/python_quickstart#import_packages\n",
        "import textwrap\n",
        "from IPython.display import display\n",
        "from IPython.display import Markdown\n",
        "\n",
        "def to_markdown(text):\n",
        "  text = text.replace('•', '  *')\n",
        "  return Markdown(textwrap.indent(text, '> ', predicate=lambda _: True))\n",
        "\n",
        "# Imprimindo o histórico\n",
        "for message in chat.history:\n",
        "  display(to_markdown(f'**{message.role}**: {message.parts[0].text}'))\n",
        "  print('-------------------------------')"
      ],
      "metadata": {
        "colab": {
          "base_uri": "https://localhost:8080/",
          "height": 393
        },
        "id": "2Ot-FoWCTdqP",
        "outputId": "c05fef12-6d02-4bde-a485-5bdd86fae935"
      },
      "execution_count": 66,
      "outputs": [
        {
          "output_type": "display_data",
          "data": {
            "text/plain": [
              "<IPython.core.display.Markdown object>"
            ],
            "text/markdown": "> **user**: que dia é hoje"
          },
          "metadata": {}
        },
        {
          "output_type": "stream",
          "name": "stdout",
          "text": [
            "-------------------------------\n"
          ]
        },
        {
          "output_type": "display_data",
          "data": {
            "text/plain": [
              "<IPython.core.display.Markdown object>"
            ],
            "text/markdown": "> **model**: 21 de fevereiro de 2023"
          },
          "metadata": {}
        },
        {
          "output_type": "stream",
          "name": "stdout",
          "text": [
            "-------------------------------\n"
          ]
        },
        {
          "output_type": "display_data",
          "data": {
            "text/plain": [
              "<IPython.core.display.Markdown object>"
            ],
            "text/markdown": "> **user**: que dia é hoje"
          },
          "metadata": {}
        },
        {
          "output_type": "stream",
          "name": "stdout",
          "text": [
            "-------------------------------\n"
          ]
        },
        {
          "output_type": "display_data",
          "data": {
            "text/plain": [
              "<IPython.core.display.Markdown object>"
            ],
            "text/markdown": "> **model**: 22 de fevereiro de 2023"
          },
          "metadata": {}
        },
        {
          "output_type": "stream",
          "name": "stdout",
          "text": [
            "-------------------------------\n"
          ]
        },
        {
          "output_type": "display_data",
          "data": {
            "text/plain": [
              "<IPython.core.display.Markdown object>"
            ],
            "text/markdown": "> **user**: FIM"
          },
          "metadata": {}
        },
        {
          "output_type": "stream",
          "name": "stdout",
          "text": [
            "-------------------------------\n"
          ]
        },
        {
          "output_type": "display_data",
          "data": {
            "text/plain": [
              "<IPython.core.display.Markdown object>"
            ],
            "text/markdown": "> **model**: Obrigado por usar meus serviços. Tchau!"
          },
          "metadata": {}
        },
        {
          "output_type": "stream",
          "name": "stdout",
          "text": [
            "-------------------------------\n"
          ]
        }
      ]
    }
  ]
}